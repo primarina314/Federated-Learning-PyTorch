{
 "cells": [
  {
   "cell_type": "code",
   "execution_count": 2,
   "id": "f7b326cc",
   "metadata": {},
   "outputs": [],
   "source": [
    "import torch\n",
    "import torchvision.datasets as datasets\n",
    "import torchvision.transforms as transforms"
   ]
  },
  {
   "cell_type": "code",
   "execution_count": 3,
   "id": "eb2bc761",
   "metadata": {},
   "outputs": [],
   "source": [
    "transform = transforms.ToTensor()"
   ]
  },
  {
   "cell_type": "code",
   "execution_count": null,
   "id": "fb8d27e8",
   "metadata": {},
   "outputs": [
    {
     "name": "stderr",
     "output_type": "stream",
     "text": [
      "100%|██████████| 9.91M/9.91M [00:17<00:00, 570kB/s] \n",
      "100%|██████████| 28.9k/28.9k [00:00<00:00, 151kB/s]\n",
      "100%|██████████| 1.65M/1.65M [00:08<00:00, 204kB/s]\n",
      "100%|██████████| 4.54k/4.54k [00:00<00:00, 4.32MB/s]\n"
     ]
    },
    {
     "name": "stdout",
     "output_type": "stream",
     "text": [
      "MNIST 학습 데이터셋 크기: 60000\n",
      "MNIST 테스트 데이터셋 크기: 10000\n"
     ]
    },
    {
     "name": "stderr",
     "output_type": "stream",
     "text": [
      "100%|██████████| 26.4M/26.4M [00:31<00:00, 848kB/s] \n",
      "100%|██████████| 29.5k/29.5k [00:00<00:00, 106kB/s]\n",
      "100%|██████████| 4.42M/4.42M [00:23<00:00, 185kB/s] \n",
      "100%|██████████| 5.15k/5.15k [00:00<00:00, 4.73MB/s]\n"
     ]
    },
    {
     "name": "stdout",
     "output_type": "stream",
     "text": [
      "Fashion-MNIST 학습 데이터셋 크기: 60000\n",
      "Fashion-MNIST 테스트 데이터셋 크기: 10000\n"
     ]
    },
    {
     "name": "stderr",
     "output_type": "stream",
     "text": [
      "100%|██████████| 170M/170M [00:28<00:00, 6.00MB/s] \n"
     ]
    },
    {
     "name": "stdout",
     "output_type": "stream",
     "text": [
      "CIFAR-10 학습 데이터셋 크기: 50000\n",
      "CIFAR-10 테스트 데이터셋 크기: 10000\n"
     ]
    }
   ],
   "source": [
    "# 학습용 MNIST 데이터셋 다운로드\n",
    "train_dataset_mnist = datasets.MNIST(root='../data/mnist/', \n",
    "                                     train=True, \n",
    "                                     transform=transform, \n",
    "                                     download=True)\n",
    "\n",
    "# 테스트용 MNIST 데이터셋 다운로드\n",
    "test_dataset_mnist = datasets.MNIST(root='../data/mnist/', \n",
    "                                    train=False, \n",
    "                                    transform=transform, \n",
    "                                    download=True)\n",
    "\n",
    "print(\"MNIST 학습 데이터셋 크기:\", len(train_dataset_mnist))\n",
    "print(\"MNIST 테스트 데이터셋 크기:\", len(test_dataset_mnist))\n",
    "\n",
    "\n",
    "# 데이터 변환 정의\n",
    "transform = transforms.ToTensor()\n",
    "\n",
    "# 학습용 Fashion-MNIST 데이터셋 다운로드\n",
    "train_dataset_fmnist = datasets.FashionMNIST(root='../data/fashion_mnist/', \n",
    "                                             train=True, \n",
    "                                             transform=transform, \n",
    "                                             download=True)\n",
    "\n",
    "# 테스트용 Fashion-MNIST 데이터셋 다운로드\n",
    "test_dataset_fmnist = datasets.FashionMNIST(root='../data/fashion_mnist/', \n",
    "                                            train=False, \n",
    "                                            transform=transform, \n",
    "                                            download=True)\n",
    "\n",
    "print(\"Fashion-MNIST 학습 데이터셋 크기:\", len(train_dataset_fmnist))\n",
    "print(\"Fashion-MNIST 테스트 데이터셋 크기:\", len(test_dataset_fmnist))\n",
    "\n",
    "\n",
    "# 학습용 CIFAR-10 데이터셋 다운로드\n",
    "train_dataset_cifar10 = datasets.CIFAR10(root='../data/cifar/', \n",
    "                                         train=True, \n",
    "                                         transform=transform, \n",
    "                                         download=True)\n",
    "\n",
    "# 테스트용 CIFAR-10 데이터셋 다운로드\n",
    "test_dataset_cifar10 = datasets.CIFAR10(root='../data/cifar/', \n",
    "                                        train=False, \n",
    "                                        \n",
    "                                        transform=transform, \n",
    "                                        download=True)\n",
    "\n",
    "print(\"CIFAR-10 학습 데이터셋 크기:\", len(train_dataset_cifar10))\n",
    "print(\"CIFAR-10 테스트 데이터셋 크기:\", len(test_dataset_cifar10))"
   ]
  },
  {
   "cell_type": "code",
   "execution_count": 8,
   "id": "629933f9",
   "metadata": {},
   "outputs": [
    {
     "name": "stdout",
     "output_type": "stream",
     "text": [
      "PyTorch 버전: 2.7.1+cu118\n",
      "CUDA 사용 가능 여부: True\n",
      "PyTorch에 연결된 CUDA 버전: 11.8\n",
      "cuDNN 버전: 90100\n",
      "현재 GPU 이름: NVIDIA GeForce GTX 1050 Ti\n"
     ]
    }
   ],
   "source": [
    "import torch\n",
    "\n",
    "print(f\"PyTorch 버전: {torch.__version__}\")\n",
    "print(f\"CUDA 사용 가능 여부: {torch.cuda.is_available()}\")\n",
    "\n",
    "if torch.cuda.is_available():\n",
    "    print(f\"PyTorch에 연결된 CUDA 버전: {torch.version.cuda}\")\n",
    "    print(f\"cuDNN 버전: {torch.backends.cudnn.version()}\")\n",
    "    print(f\"현재 GPU 이름: {torch.cuda.get_device_name(0)}\")\n"
   ]
  },
  {
   "cell_type": "code",
   "execution_count": null,
   "id": "79e0a602",
   "metadata": {},
   "outputs": [],
   "source": []
  }
 ],
 "metadata": {
  "kernelspec": {
   "display_name": "FL-DP-torch",
   "language": "python",
   "name": "python3"
  },
  "language_info": {
   "codemirror_mode": {
    "name": "ipython",
    "version": 3
   },
   "file_extension": ".py",
   "mimetype": "text/x-python",
   "name": "python",
   "nbconvert_exporter": "python",
   "pygments_lexer": "ipython3",
   "version": "3.13.5"
  }
 },
 "nbformat": 4,
 "nbformat_minor": 5
}
